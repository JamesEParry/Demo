{
  "nbformat": 4,
  "nbformat_minor": 0,
  "metadata": {
    "colab": {
      "provenance": [],
      "authorship_tag": "ABX9TyPkJicfgzvEaZfoLCl/nCBp",
      "include_colab_link": true
    },
    "kernelspec": {
      "name": "python3",
      "display_name": "Python 3"
    },
    "language_info": {
      "name": "python"
    }
  },
  "cells": [
    {
      "cell_type": "markdown",
      "metadata": {
        "id": "view-in-github",
        "colab_type": "text"
      },
      "source": [
        "<a href=\"https://colab.research.google.com/github/JamesEParry/Demo/blob/main/Create_Interaction_Data.ipynb\" target=\"_parent\"><img src=\"https://colab.research.google.com/assets/colab-badge.svg\" alt=\"Open In Colab\"/></a>"
      ]
    },
    {
      "cell_type": "markdown",
      "source": [
        "#Generate Interaction Data Inspired By: https://data.library.virginia.edu/understanding-2-way-interactions/ "
      ],
      "metadata": {
        "id": "WAn0mVuE8Mhy"
      }
    },
    {
      "cell_type": "code",
      "source": [
        "import pandas as pd\n",
        "import numpy as np\n",
        "\n",
        "# Create the 'gender' variable 20 male, 20 female.\n",
        "gender = np.repeat([\"male\", \"female\"], 20)\n",
        "\n",
        "# Create the 'trt' variable. resulting in an array of length 40 \n",
        "# with elements repeated in pairs: [\"no\", \"no\", \"yes\", \"yes\",...]. \n",
        "trt = np.repeat(np.tile([\"no\", \"yes\"], 10), 2)\n",
        "\n",
        "# Set the seed for reproducibility\n",
        "np.random.seed(1)\n",
        "\n",
        "# Create the 'resp' variable: The trick here is to vary the loc (mean) \n",
        "# for each group respectively to demo an interaction. In this case Male=Y\n",
        "# will have a higher mean response than Male = N. For female, vice versa.\n",
        "resp_male_y = np.random.normal(loc=20, size=10)\n",
        "resp_male_n = np.random.normal(loc=10, size = 10)\n",
        "resp_female_y = np.random.normal(loc=10, size=10)\n",
        "resp_female_n = np.random.normal(loc=20, size=10)\n",
        "resp = np.concatenate([resp_male_y, resp_male_n, resp_female_y, resp_female_n])\n",
        "\n",
        "# Create the DataFrame 'dat'. Pull together the dataframe with three columns\n",
        "# Concatenating each column into a df\n",
        "dat = pd.DataFrame({\n",
        "    \"gender\": gender,\n",
        "    \"trt\": trt,\n",
        "    \"resp\": resp\n",
        "})\n",
        "\n",
        "print(dat)\n"
      ],
      "metadata": {
        "colab": {
          "base_uri": "https://localhost:8080/"
        },
        "id": "lLLvgUgs-qls",
        "outputId": "cb1e51f1-8b18-461d-b6a1-dfe1b68a0b8c"
      },
      "execution_count": 89,
      "outputs": [
        {
          "output_type": "stream",
          "name": "stdout",
          "text": [
            "    gender  trt       resp\n",
            "0     male   no  21.624345\n",
            "1     male   no  19.388244\n",
            "2     male  yes  19.471828\n",
            "3     male  yes  18.927031\n",
            "4     male   no  20.865408\n",
            "5     male   no  17.698461\n",
            "6     male  yes  21.744812\n",
            "7     male  yes  19.238793\n",
            "8     male   no  20.319039\n",
            "9     male   no  19.750630\n",
            "10    male  yes  11.462108\n",
            "11    male  yes   7.939859\n",
            "12    male   no   9.677583\n",
            "13    male   no   9.615946\n",
            "14    male  yes  11.133769\n",
            "15    male  yes   8.900109\n",
            "16    male   no   9.827572\n",
            "17    male   no   9.122142\n",
            "18    male  yes  10.042214\n",
            "19    male  yes  10.582815\n",
            "20  female   no   8.899381\n",
            "21  female   no  11.144724\n",
            "22  female  yes  10.901591\n",
            "23  female  yes  10.502494\n",
            "24  female   no  10.900856\n",
            "25  female   no   9.316272\n",
            "26  female  yes   9.877110\n",
            "27  female  yes   9.064231\n",
            "28  female   no   9.732112\n",
            "29  female   no  10.530355\n",
            "30  female  yes  19.308339\n",
            "31  female  yes  19.603246\n",
            "32  female   no  19.312827\n",
            "33  female   no  19.154794\n",
            "34  female  yes  19.328754\n",
            "35  female  yes  19.987335\n",
            "36  female   no  18.882690\n",
            "37  female   no  20.234416\n",
            "38  female  yes  21.659802\n",
            "39  female  yes  20.742044\n"
          ]
        }
      ]
    },
    {
      "cell_type": "code",
      "source": [
        "# Aggregate by 'gender' and calculate mean of 'resp'\n",
        "result = dat.groupby('gender')['resp'].mean()\n",
        "\n",
        "# Print the result\n",
        "print(result)"
      ],
      "metadata": {
        "colab": {
          "base_uri": "https://localhost:8080/"
        },
        "id": "DR6zzX4ML91_",
        "outputId": "bc87b925-5bce-48fb-b628-01249c9b329d"
      },
      "execution_count": 90,
      "outputs": [
        {
          "output_type": "stream",
          "name": "stdout",
          "text": [
            "gender\n",
            "female    14.954169\n",
            "male      14.866635\n",
            "Name: resp, dtype: float64\n"
          ]
        }
      ]
    },
    {
      "cell_type": "code",
      "source": [
        "# Aggregate by 'gender' and calculate mean of 'resp'\n",
        "result = dat.groupby('trt')['resp'].mean()\n",
        "\n",
        "# Print the result\n",
        "print(result)"
      ],
      "metadata": {
        "colab": {
          "base_uri": "https://localhost:8080/"
        },
        "id": "NZkoEd87MHaV",
        "outputId": "2d894d94-e08c-4da5-94c2-5e9a68bb659b"
      },
      "execution_count": 91,
      "outputs": [
        {
          "output_type": "stream",
          "name": "stdout",
          "text": [
            "trt\n",
            "no     14.799890\n",
            "yes    15.020914\n",
            "Name: resp, dtype: float64\n"
          ]
        }
      ]
    },
    {
      "cell_type": "code",
      "source": [
        "# Create the cross-tabulation table\n",
        "cross_tab = pd.pivot_table(dat, values='resp', index='gender', columns='trt', aggfunc=np.mean)\n",
        "\n",
        "# Print the cross-tabulation table. Voila! An interaction :-). \n",
        "print(cross_tab)"
      ],
      "metadata": {
        "colab": {
          "base_uri": "https://localhost:8080/"
        },
        "id": "lF63oGmGJkr4",
        "outputId": "c96246aa-ebde-4736-b9fb-d86554e7f4a0"
      },
      "execution_count": 92,
      "outputs": [
        {
          "output_type": "stream",
          "name": "stdout",
          "text": [
            "trt            no        yes\n",
            "gender                      \n",
            "female  13.810843  16.097495\n",
            "male    15.788937  13.944334\n"
          ]
        }
      ]
    },
    {
      "cell_type": "code",
      "source": [
        "import seaborn as sns\n",
        "import matplotlib.pyplot as plt\n",
        "\n",
        "# Create the plot\n",
        "sns.pointplot(x='gender', y='resp', hue='trt', data=dat)\n",
        "\n",
        "# Add labels and title\n",
        "plt.xlabel('Gender')\n",
        "plt.ylabel('Response')\n",
        "plt.title('Interaction between Gender and Treatment')\n",
        "\n",
        "# Show the plot\n",
        "plt.show()\n"
      ],
      "metadata": {
        "colab": {
          "base_uri": "https://localhost:8080/",
          "height": 472
        },
        "id": "cE1ka2xVPwEx",
        "outputId": "16add49f-46e8-4b67-8688-1e341097e868"
      },
      "execution_count": 94,
      "outputs": [
        {
          "output_type": "display_data",
          "data": {
            "text/plain": [
              "<Figure size 640x480 with 1 Axes>"
            ],
            "image/png": "[encoded data removed]"
          },
          "metadata": {}
        }
      ]
    },
    {
      "cell_type": "code",
      "source": [],
      "metadata": {
        "id": "0Ao0CDt1PwYY"
      },
      "execution_count": null,
      "outputs": []
    }
  ]
}
